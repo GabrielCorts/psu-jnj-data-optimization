{
 "cells": [
  {
   "cell_type": "markdown",
   "metadata": {},
   "source": [
    "# Data Optimization - Johnson & Johnson"
   ]
  },
  {
   "cell_type": "code",
   "execution_count": 1,
   "metadata": {},
   "outputs": [],
   "source": [
    "import glob as glob\n",
    "import csv\n",
    "import pandas as pd\n",
    "import col_types\n",
    "\n",
    "files_processed = []\n",
    "if glob.glob('./data/files_processed.txt'):\n",
    "    with open('./data/files_processed.txt', 'r') as file:\n",
    "        reader = csv.reader(file, delimiter='\\n')\n",
    "        for row in reader:\n",
    "            files_processed += row\n",
    "            \n",
    "files_full = [file for file in glob.glob('./data/full/*.txt') if file not in files_processed]\n",
    "files_delta = [file for file in glob.glob('./data/delta/*.txt') if file not in files_processed]\n",
    "files = files_full + files_delta"
   ]
  },
  {
   "cell_type": "markdown",
   "metadata": {},
   "source": [
    "# Raw data"
   ]
  },
  {
   "cell_type": "markdown",
   "metadata": {},
   "source": [
    "## Leitura dos arquivos"
   ]
  },
  {
   "cell_type": "code",
   "execution_count": 2,
   "metadata": {},
   "outputs": [],
   "source": [
    "df_vec = []\n",
    "\n",
    "for file in files_full:\n",
    "    df_vec.append(pd.read_csv(file, sep='|', dtype=col_types.types_dict, parse_dates=col_types.parse_dates))\n",
    "\n",
    "if df_vec:\n",
    "    df = pd.concat(df_vec)\n",
    "    df = df.reset_index(drop=True)"
   ]
  },
  {
   "cell_type": "markdown",
   "metadata": {},
   "source": [
    "## Agrupando dados"
   ]
  },
  {
   "cell_type": "markdown",
   "metadata": {},
   "source": [
    "Requisitos:\n",
    "\n",
    "Group rows by\n",
    "\n",
    "- poNumber\n",
    "- costCenter\n",
    "- primaryInternalOrder\n",
    "- profitCenter\n",
    "- generalLedgerAccount\n",
    "- needByDate\n",
    "- poEndDate\n",
    "- poStartDate\n",
    "- receivableIndicator\n",
    "- projectWbs\n",
    "- matOrSrc\n",
    "- accountingActivityCode"
   ]
  },
  {
   "cell_type": "code",
   "execution_count": null,
   "metadata": {},
   "outputs": [],
   "source": [
    "if not df.empty:\n",
    "    df = df.reset_index(names='id')\n",
    "    df['delta'] = -1\n",
    "\n",
    "    accrual = df.groupby(['poNumber', 'costCenter', 'primaryInternalOrder',\n",
    "    'profitCenter', 'generalLedgerAccount', 'needByDate',\n",
    "    'poEndDate', 'poStartDate', 'receivableIndicator',\n",
    "    'projectWbs', 'matOrSrc'], dropna=False, as_index=False)\n",
    "\n",
    "    df['id'] = accrual['id'].transform(lambda x: x.min())"
   ]
  },
  {
   "cell_type": "code",
   "execution_count": null,
   "metadata": {},
   "outputs": [],
   "source": [
    "if not df.empty:\n",
    "    df.loc[df['id'] == 6]"
   ]
  },
  {
   "cell_type": "markdown",
   "metadata": {},
   "source": [
    "No momento de agrupar, é necessário somar os campos que serão mesclados.\n",
    "\n",
    "`SUM(poValueInGlobalCurrency)`\n",
    "\n",
    "`SUM(poValueInLocalCurrency)`\n",
    "\n",
    "`SUM(poValueInDocCurrency)`\n",
    "\n",
    "`SUM(gdsReceiptValueInGlobalCurrency)`\n",
    "\n",
    "`SUM(gdsReceiptValueInlocalCurrency)`\n",
    "\n",
    "`SUM(gdsReceiptValueInDocCurrency)`\n",
    "\n",
    "`SUM(invoiceReceiptValueInGlobalCurrency)`\n",
    "\n",
    "`SUM(invoiceReceiptValueInLocalCurrency)`\n",
    "\n",
    "`SUM(invoiceReceiptValueInDocCurrency)`\n",
    "\n",
    "`SUM(deliverTo)`\n",
    "\n",
    "Fazer persistir colunas que somem após operação de soma, fazer como:\n",
    "`'columnName': 'first'` na propriedade do aggreggate `.agg()`"
   ]
  },
  {
   "cell_type": "code",
   "execution_count": null,
   "metadata": {},
   "outputs": [],
   "source": [
    "if not df.empty:\n",
    "    accrued_df = accrual.agg({\n",
    "    'id': 'min',\n",
    "    'delta': 'max',\n",
    "\n",
    "    'poNumber': 'first',\n",
    "    'costCenter': 'first',\n",
    "    'primaryInternalOrder': 'first',\n",
    "    'profitCenter': 'first',\n",
    "    'generalLedgerAccount': 'first',\n",
    "    'needByDate': 'first',\n",
    "    'poEndDate': 'first',\n",
    "    'poStartDate': 'first',\n",
    "    'receivableIndicator': 'first',\n",
    "    'projectWbs': 'first',\n",
    "    'matOrSrc': 'first',\n",
    "\n",
    "    'poName': 'first',\n",
    "    'poRequisitionerWwid': 'first',\n",
    "    'poRequisitionerWwid': 'first',\n",
    "    'poRequisitionerName': 'first',\n",
    "    'poPreparerWwid': 'first',\n",
    "    'poPreparerName': 'first',\n",
    "    'costCenterDesc': 'first',\n",
    "    'generalLedgerAccountDesc': 'first',\n",
    "    'projectWbs': 'first',\n",
    "    'supplierNumber': 'first',\n",
    "    'supplierName': 'first',\n",
    "    'supplierEmailAddress': 'first',\n",
    "    'poType': 'first',\n",
    "    'poStatus': 'first',\n",
    "    'poCloseStatus': 'first',\n",
    "    'poCreationDate': 'first',\n",
    "    'receiptDates': 'first',\n",
    "    'invoiceDates': 'first',\n",
    "    'invoicePaidStatus': 'first',\n",
    "    'transactionDate': 'first',\n",
    "    'clearingDocumentRef': 'first',\n",
    "    'clearingDateReference': 'first',\n",
    "    'localCurrencyForPoValue': 'first',\n",
    "    'documentCurrencyForPoValue': 'first',\n",
    "    'localCurrencyForGoodsReceipt': 'first',\n",
    "    'documentCurrencyForGoodsReceipt': 'first',\n",
    "    'localCurrencyForInvoiceReceipt': 'first',\n",
    "    'docCurrencyForInvoiceReceipt': 'first',\n",
    "    'poValueInGlobalCurrency': 'first',\n",
    "    'poValueInLocalCurrency': 'first',\n",
    "    'poValueInDocCurrency': 'first',\n",
    "    'gdsReceiptValueInGlobalCurrency': 'first',\n",
    "    'gdsReceiptValueInlocalCurrency': 'first',\n",
    "    'gdsReceiptValueInDocCurrency': 'first',\n",
    "    'invoiceReceiptValueInGlobalCurrency': 'first',\n",
    "    'invoiceReceiptValueInLocalCurrency': 'first',\n",
    "    'invoiceReceiptValueInDocCurrency': 'first',\n",
    "    'aribaBu': 'first',\n",
    "    'mrc': 'first',\n",
    "    'companyCode': 'first',\n",
    "    'legalEntity': 'first',\n",
    "    'fsid': 'first',\n",
    "    'region': 'first',\n",
    "    'businessArea': 'first',\n",
    "    'shipTo': 'first',\n",
    "    'deliverTo': 'first',\n",
    "    'commodityType': 'first',\n",
    "    'excludeDownpaymentRequestsForPayments': 'first',\n",
    "    'sourceSystemApprovableId': 'first',\n",
    "    'requisitionNumber': 'first',\n",
    "    'receivableIndicator': 'first',\n",
    "    'poLineNumber': 'first',\n",
    "    'splitLineNumber': 'first',\n",
    "    \n",
    "    'poValueInGlobalCurrency': 'sum',\n",
    "    'poValueInLocalCurrency': 'sum',\n",
    "    'poValueInDocCurrency': 'sum',\n",
    "    'gdsReceiptValueInGlobalCurrency': 'sum',\n",
    "    'gdsReceiptValueInlocalCurrency': 'sum',\n",
    "    'gdsReceiptValueInDocCurrency': 'sum',\n",
    "    'invoiceReceiptValueInGlobalCurrency': 'sum',\n",
    "    'invoiceReceiptValueInLocalCurrency': 'sum',\n",
    "    'invoiceReceiptValueInDocCurrency': 'sum',\n",
    "    'deliverTo': 'sum'\n",
    "    }).reset_index(drop=True)\n",
    "\n",
    "    accrued_df['delta'] = accrued_df['delta'] + 1"
   ]
  },
  {
   "cell_type": "code",
   "execution_count": null,
   "metadata": {},
   "outputs": [],
   "source": [
    "if not df.empty:\n",
    "    df.loc[df['id'] == 6]"
   ]
  },
  {
   "cell_type": "code",
   "execution_count": null,
   "metadata": {},
   "outputs": [],
   "source": [
    "if not df.empty:\n",
    "    accrued_df.loc[accrued_df['id'] == 6]"
   ]
  },
  {
   "cell_type": "code",
   "execution_count": null,
   "metadata": {},
   "outputs": [],
   "source": [
    "final_df = pd.concat([df, accrued_df])\n",
    "final_df = final_df.reset_index(drop=True)"
   ]
  },
  {
   "cell_type": "markdown",
   "metadata": {},
   "source": [
    "## Salvando arquivos"
   ]
  },
  {
   "cell_type": "code",
   "execution_count": null,
   "metadata": {},
   "outputs": [],
   "source": [
    "if not df.empty:\n",
    "    final_df.to_csv('./data/accruedDataJnJ.csv', index=False, sep='|')\n",
    "\n",
    "    with open(\"./data/files_processed.txt\", \"w\") as txt_file:\n",
    "        for line in files_full:\n",
    "            txt_file.write(line + \"\\n\")"
   ]
  },
  {
   "cell_type": "markdown",
   "metadata": {},
   "source": [
    "## Gerando amostras de dados"
   ]
  },
  {
   "cell_type": "markdown",
   "metadata": {},
   "source": [
    "Aqui serão geradas amostras de dados para fins de estudo. Seleciona-se as 10 POs que mais se repetiram e as 10 que menos se repetiram."
   ]
  },
  {
   "cell_type": "code",
   "execution_count": null,
   "metadata": {},
   "outputs": [],
   "source": [
    "if not df.empty:\n",
    "    accruedFrames = [\n",
    "        accrued_df.sort_values(['poValueInGlobalCurrency'], ascending=False).head(2), \n",
    "        accrued_df.sort_values(['poValueInGlobalCurrency'], ascending=True).head(2)\n",
    "    ]\n",
    "\n",
    "    rawFrames = []\n",
    "\n",
    "    for accruedFrame in accruedFrames:\n",
    "        for index, row in accruedFrame.iterrows():\n",
    "            isNull = row.isnull();\n",
    "            rawFrames.append(df.loc[\n",
    "                ((df['poNumber'] == row['poNumber']) | (isNull['poNumber'] & df['poNumber'].isnull())) &\n",
    "                ((df['costCenter'] == row['costCenter'])  | (isNull['costCenter'] & df['costCenter'].isnull())) &\n",
    "                ((df['primaryInternalOrder'] == row['primaryInternalOrder'])  | (isNull['primaryInternalOrder'] & df['primaryInternalOrder'].isnull())) &\n",
    "                ((df['profitCenter'] == row['profitCenter'])  | (isNull['profitCenter'] & df['profitCenter'].isnull())) &\n",
    "                ((df['generalLedgerAccount'] == row['generalLedgerAccount'])  | (isNull['generalLedgerAccount'] & df['generalLedgerAccount'].isnull())) &\n",
    "                ((df['needByDate'] == row['needByDate'])  | (isNull['needByDate'] & df['needByDate'].isnull())) &\n",
    "                ((df['poEndDate'] == row['poEndDate'])  | (isNull['poEndDate'] & df['poEndDate'].isnull())) &\n",
    "                ((df['receivableIndicator'] == row['receivableIndicator'])  | (isNull['receivableIndicator'] & df['receivableIndicator'].isnull())) &\n",
    "                ((df['projectWbs'] == row['projectWbs'])  | (isNull['projectWbs'] & df['projectWbs'].isnull())) &\n",
    "                ((df['matOrSrc'] == row['matOrSrc'])  | (isNull['matOrSrc'] & df['matOrSrc'].isnull()))\n",
    "            ])\n",
    "\n",
    "    pd.concat(rawFrames).to_csv('./data/sampleData-rawPOs.csv', sep='|', index=False)\n",
    "    pd.concat(accruedFrames).to_csv('./data/sampleData-accruedPOs.csv', sep='|', index=False)\n"
   ]
  },
  {
   "cell_type": "markdown",
   "metadata": {},
   "source": [
    "# Processando Delta"
   ]
  },
  {
   "cell_type": "markdown",
   "metadata": {},
   "source": [
    "## Leitura de arquivos Delta"
   ]
  },
  {
   "cell_type": "code",
   "execution_count": 3,
   "metadata": {},
   "outputs": [],
   "source": [
    "df_vec = []\n",
    "\n",
    "for file in files_delta:\n",
    "    df_vec.append(pd.read_csv(file, sep='|', dtype=col_types.types_dict, parse_dates=col_types.parse_dates))\n",
    "\n",
    "if df_vec:\n",
    "    df = pd.concat(df_vec)\n",
    "    df = df.reset_index(drop=True)"
   ]
  },
  {
   "cell_type": "code",
   "execution_count": null,
   "metadata": {},
   "outputs": [],
   "source": [
    "df"
   ]
  }
 ],
 "metadata": {
  "kernelspec": {
   "display_name": "Python 3.9.13 64-bit (microsoft store)",
   "language": "python",
   "name": "python3"
  },
  "language_info": {
   "codemirror_mode": {
    "name": "ipython",
    "version": 3
   },
   "file_extension": ".py",
   "mimetype": "text/x-python",
   "name": "python",
   "nbconvert_exporter": "python",
   "pygments_lexer": "ipython3",
   "version": "3.9.13"
  },
  "orig_nbformat": 4,
  "vscode": {
   "interpreter": {
    "hash": "86392c235d1b737be9901ddfa7ccef2e50c8f87fe1a26cb4a3b26caac929b012"
   }
  }
 },
 "nbformat": 4,
 "nbformat_minor": 2
}
